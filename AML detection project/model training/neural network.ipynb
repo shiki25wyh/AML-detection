{
 "cells": [
  {
   "cell_type": "code",
   "execution_count": 1,
   "id": "d32dc36b",
   "metadata": {},
   "outputs": [],
   "source": [
    "import numpy as np\n",
    "import pandas as pd\n",
    "import tensorflow as tf\n",
    "from tensorflow import keras\n",
    "from tensorflow.keras import layers\n",
    "from tensorflow.keras.models import Sequential"
   ]
  },
  {
   "cell_type": "code",
   "execution_count": 2,
   "id": "3eca67a6",
   "metadata": {},
   "outputs": [
    {
     "name": "stdout",
     "output_type": "stream",
     "text": [
      "   step      type    amount  oldbalanceOrg  newbalanceOrig  oldbalanceDest  \\\n",
      "0     1   PAYMENT   9839.64       170136.0       160296.36             0.0   \n",
      "1     1   PAYMENT   1864.28        21249.0        19384.72             0.0   \n",
      "2     1  TRANSFER    181.00          181.0            0.00             0.0   \n",
      "3     1  CASH_OUT    181.00          181.0            0.00         21182.0   \n",
      "4     1   PAYMENT  11668.14        41554.0        29885.86             0.0   \n",
      "\n",
      "   newbalanceDest  isFraud  \n",
      "0             0.0        0  \n",
      "1             0.0        0  \n",
      "2             0.0        1  \n",
      "3             0.0        1  \n",
      "4             0.0        0  \n"
     ]
    }
   ],
   "source": [
    "data = pd.read_csv('data.csv')\n",
    "data.drop('nameOrig',axis = 1,inplace = True)\n",
    "data.drop('nameDest',axis = 1,inplace = True)\n",
    "data.drop('isFlaggedFraud',axis = 1,inplace = True)\n",
    "print(data.head())"
   ]
  },
  {
   "cell_type": "code",
   "execution_count": 3,
   "id": "bd939661",
   "metadata": {},
   "outputs": [
    {
     "data": {
      "text/plain": [
       "0    6354407\n",
       "1       8213\n",
       "Name: isFraud, dtype: int64"
      ]
     },
     "execution_count": 3,
     "metadata": {},
     "output_type": "execute_result"
    }
   ],
   "source": [
    "data['isFraud'].value_counts()"
   ]
  },
  {
   "cell_type": "code",
   "execution_count": 4,
   "id": "d1b97ee1",
   "metadata": {},
   "outputs": [],
   "source": [
    "data_class_0=data[data['isFraud']==0]\n",
    "data_class_1=data[data['isFraud']==1]"
   ]
  },
  {
   "cell_type": "code",
   "execution_count": 5,
   "id": "b35da099",
   "metadata": {},
   "outputs": [
    {
     "data": {
      "text/plain": [
       "0    6354407\n",
       "1       8213\n",
       "Name: isFraud, dtype: int64"
      ]
     },
     "execution_count": 5,
     "metadata": {},
     "output_type": "execute_result"
    }
   ],
   "source": [
    "data['isFraud'].value_counts()"
   ]
  },
  {
   "cell_type": "code",
   "execution_count": 6,
   "id": "457f3878",
   "metadata": {},
   "outputs": [
    {
     "data": {
      "text/html": [
       "<div>\n",
       "<style scoped>\n",
       "    .dataframe tbody tr th:only-of-type {\n",
       "        vertical-align: middle;\n",
       "    }\n",
       "\n",
       "    .dataframe tbody tr th {\n",
       "        vertical-align: top;\n",
       "    }\n",
       "\n",
       "    .dataframe thead th {\n",
       "        text-align: right;\n",
       "    }\n",
       "</style>\n",
       "<table border=\"1\" class=\"dataframe\">\n",
       "  <thead>\n",
       "    <tr style=\"text-align: right;\">\n",
       "      <th></th>\n",
       "      <th>step</th>\n",
       "      <th>type</th>\n",
       "      <th>amount</th>\n",
       "      <th>oldbalanceOrg</th>\n",
       "      <th>newbalanceOrig</th>\n",
       "      <th>oldbalanceDest</th>\n",
       "      <th>newbalanceDest</th>\n",
       "      <th>isFraud</th>\n",
       "    </tr>\n",
       "  </thead>\n",
       "  <tbody>\n",
       "    <tr>\n",
       "      <th>3874864</th>\n",
       "      <td>283</td>\n",
       "      <td>CASH_OUT</td>\n",
       "      <td>49911.31</td>\n",
       "      <td>598.0</td>\n",
       "      <td>0.00</td>\n",
       "      <td>3695059.57</td>\n",
       "      <td>3744970.88</td>\n",
       "      <td>0</td>\n",
       "    </tr>\n",
       "    <tr>\n",
       "      <th>2013834</th>\n",
       "      <td>180</td>\n",
       "      <td>CASH_OUT</td>\n",
       "      <td>145.33</td>\n",
       "      <td>12450.0</td>\n",
       "      <td>12304.67</td>\n",
       "      <td>61068.89</td>\n",
       "      <td>61214.21</td>\n",
       "      <td>0</td>\n",
       "    </tr>\n",
       "    <tr>\n",
       "      <th>3459019</th>\n",
       "      <td>257</td>\n",
       "      <td>PAYMENT</td>\n",
       "      <td>6375.17</td>\n",
       "      <td>485.0</td>\n",
       "      <td>0.00</td>\n",
       "      <td>0.00</td>\n",
       "      <td>0.00</td>\n",
       "      <td>0</td>\n",
       "    </tr>\n",
       "    <tr>\n",
       "      <th>26884</th>\n",
       "      <td>8</td>\n",
       "      <td>CASH_OUT</td>\n",
       "      <td>235912.80</td>\n",
       "      <td>0.0</td>\n",
       "      <td>0.00</td>\n",
       "      <td>8574445.33</td>\n",
       "      <td>8953314.93</td>\n",
       "      <td>0</td>\n",
       "    </tr>\n",
       "    <tr>\n",
       "      <th>1347379</th>\n",
       "      <td>137</td>\n",
       "      <td>PAYMENT</td>\n",
       "      <td>1690.61</td>\n",
       "      <td>0.0</td>\n",
       "      <td>0.00</td>\n",
       "      <td>0.00</td>\n",
       "      <td>0.00</td>\n",
       "      <td>0</td>\n",
       "    </tr>\n",
       "    <tr>\n",
       "      <th>...</th>\n",
       "      <td>...</td>\n",
       "      <td>...</td>\n",
       "      <td>...</td>\n",
       "      <td>...</td>\n",
       "      <td>...</td>\n",
       "      <td>...</td>\n",
       "      <td>...</td>\n",
       "      <td>...</td>\n",
       "    </tr>\n",
       "    <tr>\n",
       "      <th>5404790</th>\n",
       "      <td>377</td>\n",
       "      <td>PAYMENT</td>\n",
       "      <td>17702.13</td>\n",
       "      <td>116428.0</td>\n",
       "      <td>98725.87</td>\n",
       "      <td>0.00</td>\n",
       "      <td>0.00</td>\n",
       "      <td>0</td>\n",
       "    </tr>\n",
       "    <tr>\n",
       "      <th>2861213</th>\n",
       "      <td>227</td>\n",
       "      <td>CASH_IN</td>\n",
       "      <td>281888.54</td>\n",
       "      <td>315.0</td>\n",
       "      <td>282203.54</td>\n",
       "      <td>855733.87</td>\n",
       "      <td>573845.34</td>\n",
       "      <td>0</td>\n",
       "    </tr>\n",
       "    <tr>\n",
       "      <th>2108848</th>\n",
       "      <td>183</td>\n",
       "      <td>CASH_OUT</td>\n",
       "      <td>526513.32</td>\n",
       "      <td>20280.0</td>\n",
       "      <td>0.00</td>\n",
       "      <td>3741289.04</td>\n",
       "      <td>4267802.36</td>\n",
       "      <td>0</td>\n",
       "    </tr>\n",
       "    <tr>\n",
       "      <th>1750135</th>\n",
       "      <td>161</td>\n",
       "      <td>TRANSFER</td>\n",
       "      <td>288688.03</td>\n",
       "      <td>0.0</td>\n",
       "      <td>0.00</td>\n",
       "      <td>866494.23</td>\n",
       "      <td>1155182.26</td>\n",
       "      <td>0</td>\n",
       "    </tr>\n",
       "    <tr>\n",
       "      <th>3566695</th>\n",
       "      <td>260</td>\n",
       "      <td>PAYMENT</td>\n",
       "      <td>1752.83</td>\n",
       "      <td>0.0</td>\n",
       "      <td>0.00</td>\n",
       "      <td>0.00</td>\n",
       "      <td>0.00</td>\n",
       "      <td>0</td>\n",
       "    </tr>\n",
       "  </tbody>\n",
       "</table>\n",
       "<p>8213 rows × 8 columns</p>\n",
       "</div>"
      ],
      "text/plain": [
       "         step      type     amount  oldbalanceOrg  newbalanceOrig  \\\n",
       "3874864   283  CASH_OUT   49911.31          598.0            0.00   \n",
       "2013834   180  CASH_OUT     145.33        12450.0        12304.67   \n",
       "3459019   257   PAYMENT    6375.17          485.0            0.00   \n",
       "26884       8  CASH_OUT  235912.80            0.0            0.00   \n",
       "1347379   137   PAYMENT    1690.61            0.0            0.00   \n",
       "...       ...       ...        ...            ...             ...   \n",
       "5404790   377   PAYMENT   17702.13       116428.0        98725.87   \n",
       "2861213   227   CASH_IN  281888.54          315.0       282203.54   \n",
       "2108848   183  CASH_OUT  526513.32        20280.0            0.00   \n",
       "1750135   161  TRANSFER  288688.03            0.0            0.00   \n",
       "3566695   260   PAYMENT    1752.83            0.0            0.00   \n",
       "\n",
       "         oldbalanceDest  newbalanceDest  isFraud  \n",
       "3874864      3695059.57      3744970.88        0  \n",
       "2013834        61068.89        61214.21        0  \n",
       "3459019            0.00            0.00        0  \n",
       "26884        8574445.33      8953314.93        0  \n",
       "1347379            0.00            0.00        0  \n",
       "...                 ...             ...      ...  \n",
       "5404790            0.00            0.00        0  \n",
       "2861213       855733.87       573845.34        0  \n",
       "2108848      3741289.04      4267802.36        0  \n",
       "1750135       866494.23      1155182.26        0  \n",
       "3566695            0.00            0.00        0  \n",
       "\n",
       "[8213 rows x 8 columns]"
      ]
     },
     "execution_count": 6,
     "metadata": {},
     "output_type": "execute_result"
    }
   ],
   "source": [
    "data_class_0.sample(8213)"
   ]
  },
  {
   "cell_type": "code",
   "execution_count": 7,
   "id": "c75c31a0",
   "metadata": {},
   "outputs": [],
   "source": [
    "data_class_0_under = data_class_0.sample(8213)"
   ]
  },
  {
   "cell_type": "code",
   "execution_count": 8,
   "id": "ecc1d30e",
   "metadata": {},
   "outputs": [],
   "source": [
    "data_test_under = pd.concat([data_class_0_under,data_class_1],axis=0)"
   ]
  },
  {
   "cell_type": "code",
   "execution_count": 9,
   "id": "c4314e10",
   "metadata": {},
   "outputs": [],
   "source": [
    "# Encoding categorical data, transfer type columns into numerical\n",
    "from sklearn.preprocessing import LabelEncoder, OneHotEncoder\n",
    "from sklearn.compose import ColumnTransformer\n",
    "data_array = np.array(data_test_under)\n",
    "labelencoder = LabelEncoder()\n",
    "data_array[:, 1] = labelencoder.fit_transform(data_array[:, 1])"
   ]
  },
  {
   "cell_type": "code",
   "execution_count": 10,
   "id": "1d50d316",
   "metadata": {},
   "outputs": [],
   "source": [
    "def feature_normalize(data):\n",
    "    mu = np.mean(data,axis=0)\n",
    "    std = np.std(data,axis=0)\n",
    "    return (data - mu)/std"
   ]
  },
  {
   "cell_type": "code",
   "execution_count": 11,
   "id": "bb5331f8",
   "metadata": {},
   "outputs": [],
   "source": [
    "x=data_array[:,0:7]\n",
    "y=data_array[:,7]"
   ]
  },
  {
   "cell_type": "code",
   "execution_count": 12,
   "id": "2d4e3919",
   "metadata": {},
   "outputs": [],
   "source": [
    "# normalize training data x\n",
    "x[:,0]=feature_normalize(x[:,0])\n",
    "x[:,1]=feature_normalize(x[:,1])\n",
    "x[:,2]=feature_normalize(x[:,2])\n",
    "x[:,3]=feature_normalize(x[:,3])\n",
    "x[:,4]=feature_normalize(x[:,4])\n",
    "x[:,5]=feature_normalize(x[:,5])\n",
    "x[:,6]=feature_normalize(x[:,6])"
   ]
  },
  {
   "cell_type": "code",
   "execution_count": 13,
   "id": "f8ce3f2c",
   "metadata": {},
   "outputs": [],
   "source": [
    "#split the data into 0.8 for train 0.2 for test\n",
    "from sklearn.model_selection import train_test_split\n",
    "X_train,X_test,y_train,y_test = train_test_split(x,y,shuffle=True)"
   ]
  },
  {
   "cell_type": "code",
   "execution_count": 14,
   "id": "4842cf1d",
   "metadata": {},
   "outputs": [],
   "source": [
    "X_train = np.asarray(X_train).astype(np.float32)\n",
    "y_train = np.asarray(y_train).astype(np.float32).reshape((-1,1))\n",
    "X_test = np.asarray(X_test).astype(np.float32)\n",
    "y_test = np.asarray(y_test).astype(np.float32).reshape((-1,1))"
   ]
  },
  {
   "cell_type": "code",
   "execution_count": null,
   "id": "ca3058ce",
   "metadata": {},
   "outputs": [],
   "source": []
  },
  {
   "cell_type": "code",
   "execution_count": null,
   "id": "fd2b2e45",
   "metadata": {},
   "outputs": [],
   "source": []
  },
  {
   "cell_type": "code",
   "execution_count": null,
   "id": "871a1b69",
   "metadata": {},
   "outputs": [],
   "source": []
  },
  {
   "cell_type": "code",
   "execution_count": null,
   "id": "de743899",
   "metadata": {},
   "outputs": [],
   "source": []
  },
  {
   "cell_type": "code",
   "execution_count": 15,
   "id": "f49e328a",
   "metadata": {},
   "outputs": [
    {
     "name": "stdout",
     "output_type": "stream",
     "text": [
      "Epoch 1/10\n"
     ]
    },
    {
     "name": "stderr",
     "output_type": "stream",
     "text": [
      "C:\\Users\\shiki\\anaconda3\\lib\\site-packages\\tensorflow\\python\\util\\dispatch.py:1082: UserWarning: \"`binary_crossentropy` received `from_logits=True`, but the `output` argument was produced by a sigmoid or softmax activation and thus does not represent logits. Was this intended?\"\n",
      "  return dispatch_target(*args, **kwargs)\n"
     ]
    },
    {
     "name": "stdout",
     "output_type": "stream",
     "text": [
      "385/385 [==============================] - 0s 506us/step - loss: 0.3260 - accuracy: 0.8625\n",
      "Epoch 2/10\n",
      "385/385 [==============================] - 0s 509us/step - loss: 0.1817 - accuracy: 0.9236\n",
      "Epoch 3/10\n",
      "385/385 [==============================] - 0s 506us/step - loss: 0.1653 - accuracy: 0.9375\n",
      "Epoch 4/10\n",
      "385/385 [==============================] - 0s 499us/step - loss: 0.1346 - accuracy: 0.9433\n",
      "Epoch 5/10\n",
      "385/385 [==============================] - 0s 500us/step - loss: 0.1201 - accuracy: 0.9539\n",
      "Epoch 6/10\n",
      "385/385 [==============================] - 0s 498us/step - loss: 0.1130 - accuracy: 0.9545\n",
      "Epoch 7/10\n",
      "385/385 [==============================] - 0s 507us/step - loss: 0.1166 - accuracy: 0.9530\n",
      "Epoch 8/10\n",
      "385/385 [==============================] - 0s 508us/step - loss: 0.1059 - accuracy: 0.9584\n",
      "Epoch 9/10\n",
      "385/385 [==============================] - 0s 506us/step - loss: 0.0998 - accuracy: 0.9598\n",
      "Epoch 10/10\n",
      "385/385 [==============================] - 0s 507us/step - loss: 0.0949 - accuracy: 0.9612\n"
     ]
    },
    {
     "data": {
      "text/plain": [
       "<keras.callbacks.History at 0x15deacd5550>"
      ]
     },
     "execution_count": 15,
     "metadata": {},
     "output_type": "execute_result"
    }
   ],
   "source": [
    "model = Sequential([\n",
    "    layers.Input(shape=(7,)),\n",
    "    layers.Dense(128,activation='relu'),\n",
    "    layers.Dense(64,activation='relu'),\n",
    "    layers.Dense(32,activation='relu'),\n",
    "    layers.Dense(1,activation='sigmoid')\n",
    "])\n",
    "model.compile(optimizer=tf.keras.optimizers.Adam(learning_rate=1e-3),loss=tf.keras.losses.BinaryCrossentropy(from_logits=True),metrics=['accuracy'])\n",
    "\n",
    "#训练模型\n",
    "model.fit(X_train,y_train,epochs=10)"
   ]
  },
  {
   "cell_type": "code",
   "execution_count": null,
   "id": "567c9b2b",
   "metadata": {},
   "outputs": [],
   "source": []
  },
  {
   "cell_type": "code",
   "execution_count": 34,
   "id": "887e5945",
   "metadata": {},
   "outputs": [
    {
     "name": "stdout",
     "output_type": "stream",
     "text": [
      "Model: \"sequential\"\n",
      "_________________________________________________________________\n",
      " Layer (type)                Output Shape              Param #   \n",
      "=================================================================\n",
      " dense (Dense)               (None, 128)               1024      \n",
      "                                                                 \n",
      " dense_1 (Dense)             (None, 64)                8256      \n",
      "                                                                 \n",
      " dense_2 (Dense)             (None, 32)                2080      \n",
      "                                                                 \n",
      " dense_3 (Dense)             (None, 1)                 33        \n",
      "                                                                 \n",
      "=================================================================\n",
      "Total params: 11,393\n",
      "Trainable params: 11,393\n",
      "Non-trainable params: 0\n",
      "_________________________________________________________________\n"
     ]
    }
   ],
   "source": [
    "#模型结构\n",
    "model.summary()"
   ]
  },
  {
   "cell_type": "code",
   "execution_count": null,
   "id": "293d7526",
   "metadata": {},
   "outputs": [],
   "source": []
  },
  {
   "cell_type": "code",
   "execution_count": null,
   "id": "8cbde8c4",
   "metadata": {},
   "outputs": [],
   "source": []
  },
  {
   "cell_type": "code",
   "execution_count": 16,
   "id": "876ca3f1",
   "metadata": {},
   "outputs": [
    {
     "name": "stdout",
     "output_type": "stream",
     "text": [
      "129/129 [==============================] - 0s 417us/step - loss: 0.1063 - accuracy: 0.9508\n"
     ]
    },
    {
     "data": {
      "text/plain": [
       "[0.10626295208930969, 0.9508156776428223]"
      ]
     },
     "execution_count": 16,
     "metadata": {},
     "output_type": "execute_result"
    }
   ],
   "source": [
    "# test X_test acc\n",
    "model.evaluate(X_test,y_test)"
   ]
  },
  {
   "cell_type": "code",
   "execution_count": 17,
   "id": "9a4db832",
   "metadata": {},
   "outputs": [],
   "source": [
    "x_test_pred=model.predict(X_test)"
   ]
  },
  {
   "cell_type": "code",
   "execution_count": 18,
   "id": "e80bb3bf",
   "metadata": {},
   "outputs": [
    {
     "data": {
      "text/plain": [
       "array([[ 1.7079176e-01, -7.5432265e-01, -3.9247873e-01, ...,\n",
       "        -2.0814978e-01, -1.2105679e-01, -1.9262463e-01],\n",
       "       [-1.6445477e-01,  5.9960878e-01, -4.4098064e-01, ...,\n",
       "        -2.0646954e-01, -2.2579722e-01, -3.1024823e-01],\n",
       "       [ 3.1004801e-01, -7.5432265e-01,  8.0561578e-02, ...,\n",
       "        -2.0814978e-01, -1.4549178e-01,  3.7913703e-04],\n",
       "       ...,\n",
       "       [-1.4848104e+00, -7.5432265e-01,  5.5851269e-01, ...,\n",
       "        -2.0814978e-01, -2.2579722e-01,  1.2751490e-01],\n",
       "       [-1.2269284e+00, -7.5432265e-01,  1.1494988e+00, ...,\n",
       "        -2.0814978e-01, -5.8550529e-02,  5.6556952e-01],\n",
       "       [-1.5518596e+00, -7.5432265e-01, -3.9612961e-01, ...,\n",
       "        -2.0814978e-01, -2.2278808e-01, -3.0765274e-01]], dtype=float32)"
      ]
     },
     "execution_count": 18,
     "metadata": {},
     "output_type": "execute_result"
    }
   ],
   "source": [
    "X_test"
   ]
  },
  {
   "cell_type": "code",
   "execution_count": 19,
   "id": "9897bdb5",
   "metadata": {},
   "outputs": [
    {
     "data": {
      "text/plain": [
       "array([[1.],\n",
       "       [0.],\n",
       "       [1.],\n",
       "       ...,\n",
       "       [1.],\n",
       "       [1.],\n",
       "       [1.]], dtype=float32)"
      ]
     },
     "execution_count": 19,
     "metadata": {},
     "output_type": "execute_result"
    }
   ],
   "source": [
    "y_test"
   ]
  },
  {
   "cell_type": "code",
   "execution_count": 20,
   "id": "f59d765a",
   "metadata": {},
   "outputs": [],
   "source": [
    "# x_test_pred是每条记录的概率，用np.round()函数让>0.5 的值=1，<0.5的=0"
   ]
  },
  {
   "cell_type": "code",
   "execution_count": 21,
   "id": "f933ed11",
   "metadata": {},
   "outputs": [
    {
     "data": {
      "text/plain": [
       "array([[2.9389676e-01],\n",
       "       [1.9345935e-05],\n",
       "       [9.9912822e-01],\n",
       "       ...,\n",
       "       [9.9998510e-01],\n",
       "       [9.9999964e-01],\n",
       "       [4.5832810e-01]], dtype=float32)"
      ]
     },
     "execution_count": 21,
     "metadata": {},
     "output_type": "execute_result"
    }
   ],
   "source": [
    "x_test_pred"
   ]
  },
  {
   "cell_type": "code",
   "execution_count": 22,
   "id": "ac33a565",
   "metadata": {},
   "outputs": [],
   "source": [
    "x_test_outcome = np.round(x_test_pred)"
   ]
  },
  {
   "cell_type": "code",
   "execution_count": 23,
   "id": "a5fd1f23",
   "metadata": {},
   "outputs": [
    {
     "data": {
      "text/plain": [
       "array([[0.],\n",
       "       [0.],\n",
       "       [1.],\n",
       "       ...,\n",
       "       [1.],\n",
       "       [1.],\n",
       "       [0.]], dtype=float32)"
      ]
     },
     "execution_count": 23,
     "metadata": {},
     "output_type": "execute_result"
    }
   ],
   "source": [
    "x_test_outcome"
   ]
  },
  {
   "cell_type": "code",
   "execution_count": null,
   "id": "6931c2a6",
   "metadata": {},
   "outputs": [],
   "source": []
  },
  {
   "cell_type": "code",
   "execution_count": 24,
   "id": "e94cbac1",
   "metadata": {},
   "outputs": [
    {
     "name": "stdout",
     "output_type": "stream",
     "text": [
      "[0.95081568]\n"
     ]
    }
   ],
   "source": [
    "#这行代码就是实现model.evaluate()的功能，acc of X_test is same in this and next box\n",
    "pred=sum(x_test_outcome==y_test)/len(x_test_outcome)\n",
    "print(pred)\n"
   ]
  },
  {
   "cell_type": "code",
   "execution_count": 25,
   "id": "0b373930",
   "metadata": {},
   "outputs": [
    {
     "name": "stdout",
     "output_type": "stream",
     "text": [
      "129/129 [==============================] - 0s 374us/step - loss: 0.1063 - accuracy: 0.9508\n"
     ]
    },
    {
     "data": {
      "text/plain": [
       "[0.10626295208930969, 0.9508156776428223]"
      ]
     },
     "execution_count": 25,
     "metadata": {},
     "output_type": "execute_result"
    }
   ],
   "source": [
    "model.evaluate(X_test,y_test)"
   ]
  },
  {
   "cell_type": "code",
   "execution_count": null,
   "id": "6437d09b",
   "metadata": {},
   "outputs": [],
   "source": []
  },
  {
   "cell_type": "code",
   "execution_count": null,
   "id": "4cd18a06",
   "metadata": {},
   "outputs": [],
   "source": []
  },
  {
   "cell_type": "code",
   "execution_count": null,
   "id": "46aaa7f9",
   "metadata": {},
   "outputs": [],
   "source": []
  },
  {
   "cell_type": "code",
   "execution_count": 26,
   "id": "3f1e15c4",
   "metadata": {},
   "outputs": [],
   "source": [
    "from sklearn.metrics import confusion_matrix, classification_report"
   ]
  },
  {
   "cell_type": "code",
   "execution_count": 27,
   "id": "6cff7c4e",
   "metadata": {},
   "outputs": [],
   "source": [
    "y_pred = model.predict(X_test)"
   ]
  },
  {
   "cell_type": "code",
   "execution_count": 28,
   "id": "4ce8a7cd",
   "metadata": {},
   "outputs": [],
   "source": [
    "y_pred = np.round(y_pred)"
   ]
  },
  {
   "cell_type": "code",
   "execution_count": 29,
   "id": "a8c9c544",
   "metadata": {},
   "outputs": [
    {
     "name": "stdout",
     "output_type": "stream",
     "text": [
      "              precision    recall  f1-score   support\n",
      "\n",
      "         0.0       0.92      0.99      0.95      2081\n",
      "         1.0       0.99      0.91      0.95      2026\n",
      "\n",
      "    accuracy                           0.95      4107\n",
      "   macro avg       0.95      0.95      0.95      4107\n",
      "weighted avg       0.95      0.95      0.95      4107\n",
      "\n"
     ]
    }
   ],
   "source": [
    "print(classification_report(y_test,y_pred))"
   ]
  },
  {
   "cell_type": "code",
   "execution_count": 30,
   "id": "7cd6a3dc",
   "metadata": {},
   "outputs": [
    {
     "name": "stdout",
     "output_type": "stream",
     "text": [
      "confusion_matrix\n",
      " [[2054   27]\n",
      " [ 175 1851]]\n"
     ]
    }
   ],
   "source": [
    "print('confusion_matrix\\n',confusion_matrix(y_test, y_pred))"
   ]
  },
  {
   "cell_type": "code",
   "execution_count": 31,
   "id": "d8a837d4",
   "metadata": {},
   "outputs": [
    {
     "data": {
      "text/plain": [
       "0.9503241853976158"
      ]
     },
     "execution_count": 31,
     "metadata": {},
     "output_type": "execute_result"
    }
   ],
   "source": [
    "from sklearn.metrics import roc_curve, auc \n",
    "# plot ROC curve and ROC area for each class\n",
    "fpr,tpr,threshold = roc_curve(y_test, y_pred) \n",
    "roc_auc = auc(fpr,tpr) \n",
    "roc_auc"
   ]
  },
  {
   "cell_type": "code",
   "execution_count": null,
   "id": "64597b3d",
   "metadata": {},
   "outputs": [],
   "source": []
  },
  {
   "cell_type": "code",
   "execution_count": null,
   "id": "d4bc80b6",
   "metadata": {},
   "outputs": [],
   "source": []
  },
  {
   "cell_type": "code",
   "execution_count": 32,
   "id": "a3698cbe",
   "metadata": {},
   "outputs": [
    {
     "data": {
      "text/plain": [
       "<Figure size 432x288 with 0 Axes>"
      ]
     },
     "metadata": {},
     "output_type": "display_data"
    },
    {
     "data": {
      "image/png": "[encoded data removed]",
      "text/plain": [
       "<Figure size 720x720 with 1 Axes>"
      ]
     },
     "metadata": {
      "needs_background": "light"
     },
     "output_type": "display_data"
    }
   ],
   "source": [
    "import matplotlib.pyplot as plt\n",
    "import seaborn as sns\n",
    "plt.figure()\n",
    "lw = 2\n",
    "plt.figure(figsize=(10,10))\n",
    "plt.plot(fpr, tpr, color='r',\n",
    "         lw=lw, label='ROC curve (area = %0.3f)' % roc_auc) \n",
    "plt.plot([0, 1], [0, 1], color='navy', lw=lw, linestyle='--')\n",
    "plt.xlim([0.0, 1.0])\n",
    "plt.ylim([0.0, 1.0])\n",
    "plt.xlabel('False Positive Rate')\n",
    "plt.ylabel('True Positive Rate')\n",
    "plt.title('')\n",
    "plt.legend(loc=\"lower right\")\n",
    "plt.show()"
   ]
  },
  {
   "cell_type": "code",
   "execution_count": null,
   "id": "2ef78358",
   "metadata": {},
   "outputs": [],
   "source": [
    "# model.save('model')"
   ]
  },
  {
   "cell_type": "code",
   "execution_count": null,
   "id": "07c9fd34",
   "metadata": {},
   "outputs": [],
   "source": []
  },
  {
   "cell_type": "code",
   "execution_count": null,
   "id": "b014958a",
   "metadata": {},
   "outputs": [],
   "source": []
  }
 ],
 "metadata": {
  "kernelspec": {
   "display_name": "Python 3 (ipykernel)",
   "language": "python",
   "name": "python3"
  },
  "language_info": {
   "codemirror_mode": {
    "name": "ipython",
    "version": 3
   },
   "file_extension": ".py",
   "mimetype": "text/x-python",
   "name": "python",
   "nbconvert_exporter": "python",
   "pygments_lexer": "ipython3",
   "version": "3.9.7"
  }
 },
 "nbformat": 4,
 "nbformat_minor": 5
}
